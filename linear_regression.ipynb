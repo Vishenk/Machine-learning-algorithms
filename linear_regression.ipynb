{
  "nbformat": 4,
  "nbformat_minor": 0,
  "metadata": {
    "colab": {
      "provenance": [],
      "collapsed_sections": []
    },
    "kernelspec": {
      "name": "python3",
      "display_name": "Python 3"
    },
    "language_info": {
      "name": "python"
    }
  },
  "cells": [
    {
      "cell_type": "code",
      "execution_count": 29,
      "metadata": {
        "colab": {
          "base_uri": "https://localhost:8080/"
        },
        "id": "U4tjXHtIfI4G",
        "outputId": "6515707c-d2de-469c-f545-83c053347b02"
      },
      "outputs": [
        {
          "output_type": "stream",
          "name": "stdout",
          "text": [
            "[[-3.09512991e+17 -3.09512991e+17 -3.09512991e+17 -3.09512991e+17\n",
            "  -2.11350147e+18 -2.11350147e+18 -2.11350147e+18 -2.11350147e+18\n",
            "   7.70426920e+17  7.70426920e+17  7.70426920e+17  7.70426920e+17]\n",
            " [-6.63122433e+17 -6.63122433e+17 -6.63122433e+17 -6.63122433e+17\n",
            "  -9.20254259e+15 -9.20254259e+15 -9.20254259e+15 -9.20254259e+15\n",
            "   1.85232098e+18  1.85232098e+18  1.85232098e+18  1.85232098e+18]\n",
            " [-3.53257915e+17 -3.53257915e+17 -3.53257915e+17 -3.53257915e+17\n",
            "  -1.29826776e+18 -1.29826776e+18 -1.29826776e+18 -1.29826776e+18\n",
            "  -1.25782692e+18 -1.25782692e+18 -1.25782692e+18 -1.25782692e+18]]\n",
            "71136545 Разработчик С++ middle+ {'from': 1500000, 'to': 2200000, 'currency': 'KZT', 'gross': False}\n"
          ]
        }
      ],
      "source": [
        "import sklearn.preprocessing as prep\n",
        "import numpy as np\n",
        "from sklearn.linear_model import LinearRegression\n",
        "import requests\n",
        "\n",
        "X=np.random.choice(['female', 'male', 'high school', 'manager'], size=(1000,3))\n",
        "Y=np.random.normal(10000, 20000, size=(1000,3))\n",
        "ohe=prep.OneHotEncoder()\n",
        "X1=ohe.fit_transform(X).toarray()\n",
        "model=LinearRegression()\n",
        "model.fit(X1,Y)\n",
        "print(model.coef_)\n",
        "\n",
        "js=requests.get('https://api.hh.ru/vacancies?text=Разработчик&per_page=100&only_with_salary=True').json()['items']\n",
        "salary=np.array(list(map(lambda x: x['salary']['from'] if x['salary']['from'] is not None else x['salary']['to'],js)))\n",
        "print(js[salary.argmax()]['id'],js[salary.argmax()]['name'],js[salary.argmax()]['salary'])\n",
        "\n",
        "X=np.array(list(map(lambda x: list(np.array([x['salary']['from'],x['salary']['to'],x['id']],dtype=float)),js)))\n",
        "X[1:10,0]\n",
        "\n",
        "schedule=np.array(list(map(lambda x: x['schedule']['name'],js)))\n",
        "lab=prep.LabelEncoder()"
      ]
    },
    {
      "cell_type": "code",
      "source": [
        "lab.fit_transform(schedule.reshape(-1,1))"
      ],
      "metadata": {
        "colab": {
          "base_uri": "https://localhost:8080/"
        },
        "id": "l5R2k1HKfQwZ",
        "outputId": "d735394a-8cb7-4da8-a332-f84834cf43e1"
      },
      "execution_count": 30,
      "outputs": [
        {
          "output_type": "stream",
          "name": "stderr",
          "text": [
            "/usr/local/lib/python3.7/dist-packages/sklearn/preprocessing/_label.py:115: DataConversionWarning: A column-vector y was passed when a 1d array was expected. Please change the shape of y to (n_samples, ), for example using ravel().\n",
            "  y = column_or_1d(y, warn=True)\n"
          ]
        },
        {
          "output_type": "execute_result",
          "data": {
            "text/plain": [
              "array([3, 3, 1, 3, 1, 1, 1, 3, 1, 1, 3, 1, 0, 0, 1, 3, 3, 1, 3, 3, 1, 3,\n",
              "       1, 1, 3, 1, 3, 3, 1, 1, 1, 1, 1, 1, 1, 1, 3, 0, 1, 1, 0, 1, 1, 1,\n",
              "       3, 1, 1, 1, 1, 1, 1, 1, 3, 1, 1, 3, 0, 1, 0, 2, 1, 1, 3, 1, 3, 1,\n",
              "       3, 3, 1, 1, 1, 1, 1, 1, 0, 1, 3, 3, 1, 3, 0, 1, 3, 1, 1, 3, 3, 1,\n",
              "       1, 1, 3, 0, 3, 3, 3, 1, 1, 1, 0, 1])"
            ]
          },
          "metadata": {},
          "execution_count": 30
        }
      ]
    },
    {
      "cell_type": "code",
      "source": [
        "salaryfrom=np.array(list(map(lambda x: x['salary']['from'] if x['salary']['from'] is not None else None,js)))\n",
        "mn=np.mean(list(filter(lambda x:x>1,np.where(salaryfrom.astype(str)=='None',1,salaryfrom))))"
      ],
      "metadata": {
        "id": "kq0zZzq1fi7B"
      },
      "execution_count": 31,
      "outputs": []
    },
    {
      "cell_type": "code",
      "source": [
        "np.where(salaryfrom.astype(str)=='None',mn,salaryfrom.astype(float))"
      ],
      "metadata": {
        "colab": {
          "base_uri": "https://localhost:8080/"
        },
        "id": "Q7ZY4gV7fVzH",
        "outputId": "c449b7ee-d3d1-4f89-ece7-8feccc385920"
      },
      "execution_count": 32,
      "outputs": [
        {
          "output_type": "execute_result",
          "data": {
            "text/plain": [
              "array([2.50000000e+04, 6.00000000e+03, 4.00000000e+05, 1.42259783e+05,\n",
              "       4.00000000e+05, 1.50000000e+03, 3.20000000e+05, 5.00000000e+03,\n",
              "       1.50000000e+04, 7.00000000e+04, 7.00000000e+03, 1.50000000e+04,\n",
              "       1.00000000e+03, 2.50000000e+05, 5.00000000e+05, 5.00000000e+03,\n",
              "       4.00000000e+03, 6.00000000e+04, 1.00000000e+05, 1.42259783e+05,\n",
              "       5.00000000e+04, 2.50000000e+04, 6.00000000e+04, 4.00000000e+04,\n",
              "       1.80000000e+05, 1.80000000e+05, 8.00000000e+04, 3.50000000e+04,\n",
              "       1.80000000e+05, 9.00000000e+04, 8.00000000e+04, 6.00000000e+03,\n",
              "       2.50000000e+05, 5.00000000e+04, 3.00000000e+05, 8.00000000e+04,\n",
              "       1.42259783e+05, 3.00000000e+05, 1.20000000e+05, 6.00000000e+04,\n",
              "       5.00000000e+04, 5.00000000e+04, 5.00000000e+04, 5.00000000e+04,\n",
              "       7.00000000e+04, 5.00000000e+05, 5.00000000e+05, 1.50000000e+04,\n",
              "       5.00000000e+04, 7.00000000e+04, 2.30000000e+05, 8.00000000e+04,\n",
              "       1.42259783e+05, 2.50000000e+05, 2.50000000e+05, 5.00000000e+04,\n",
              "       2.00000000e+05, 1.00000000e+05, 4.00000000e+03, 3.50000000e+04,\n",
              "       2.50000000e+04, 1.40000000e+03, 2.60000000e+05, 6.00000000e+04,\n",
              "       1.00000000e+05, 2.50000000e+05, 3.00000000e+05, 2.50000000e+05,\n",
              "       1.20000000e+05, 6.50000000e+04, 4.00000000e+04, 3.00000000e+04,\n",
              "       2.50000000e+04, 1.00000000e+05, 1.42259783e+05, 1.30000000e+05,\n",
              "       1.42259783e+05, 1.50000000e+05, 1.00000000e+05, 8.00000000e+04,\n",
              "       2.00000000e+05, 6.00000000e+04, 3.20000000e+05, 6.00000000e+05,\n",
              "       4.20000000e+05, 1.00000000e+05, 4.05000000e+04, 2.00000000e+03,\n",
              "       1.42259783e+05, 1.42259783e+05, 1.50000000e+05, 5.00000000e+04,\n",
              "       1.50000000e+06, 3.00000000e+03, 6.50000000e+03, 1.10000000e+05,\n",
              "       1.50000000e+05, 2.60000000e+05, 4.50000000e+04, 3.00000000e+04])"
            ]
          },
          "metadata": {},
          "execution_count": 32
        }
      ]
    },
    {
      "cell_type": "code",
      "source": [
        "np.corrcoef(np.where(salaryfrom.astype(str)=='None',mn,salaryfrom.astype(float)),shed)"
      ],
      "metadata": {
        "colab": {
          "base_uri": "https://localhost:8080/",
          "height": 165
        },
        "id": "pv8m4hCyfaKp",
        "outputId": "5f5c7b35-71ae-4420-ac19-44ab532c534c"
      },
      "execution_count": 5,
      "outputs": [
        {
          "output_type": "error",
          "ename": "NameError",
          "evalue": "ignored",
          "traceback": [
            "\u001b[0;31m---------------------------------------------------------------------------\u001b[0m",
            "\u001b[0;31mNameError\u001b[0m                                 Traceback (most recent call last)",
            "\u001b[0;32m<ipython-input-5-ff856434c28e>\u001b[0m in \u001b[0;36m<module>\u001b[0;34m\u001b[0m\n\u001b[0;32m----> 1\u001b[0;31m \u001b[0mnp\u001b[0m\u001b[0;34m.\u001b[0m\u001b[0mcorrcoef\u001b[0m\u001b[0;34m(\u001b[0m\u001b[0mnp\u001b[0m\u001b[0;34m.\u001b[0m\u001b[0mwhere\u001b[0m\u001b[0;34m(\u001b[0m\u001b[0msalaryfrom\u001b[0m\u001b[0;34m.\u001b[0m\u001b[0mastype\u001b[0m\u001b[0;34m(\u001b[0m\u001b[0mstr\u001b[0m\u001b[0;34m)\u001b[0m\u001b[0;34m==\u001b[0m\u001b[0;34m'None'\u001b[0m\u001b[0;34m,\u001b[0m\u001b[0mmn\u001b[0m\u001b[0;34m,\u001b[0m\u001b[0msalaryfrom\u001b[0m\u001b[0;34m.\u001b[0m\u001b[0mastype\u001b[0m\u001b[0;34m(\u001b[0m\u001b[0mfloat\u001b[0m\u001b[0;34m)\u001b[0m\u001b[0;34m)\u001b[0m\u001b[0;34m,\u001b[0m\u001b[0mshed\u001b[0m\u001b[0;34m)\u001b[0m\u001b[0;34m\u001b[0m\u001b[0;34m\u001b[0m\u001b[0m\n\u001b[0m",
            "\u001b[0;31mNameError\u001b[0m: name 'shed' is not defined"
          ]
        }
      ]
    },
    {
      "cell_type": "code",
      "source": [
        "minmax=prep.MinMaxScaler()\n",
        "np.corrcoef(minmax.fit_transform((np.where(salaryfrom.astype(str)=='None',mn,salaryfrom.astype(float))).reshape(-1, 1)).flatten(), shed)"
      ],
      "metadata": {
        "colab": {
          "base_uri": "https://localhost:8080/",
          "height": 182
        },
        "id": "6jt98IJDfbz5",
        "outputId": "33cd50ea-caf6-4b9a-e621-8fb8b762d122"
      },
      "execution_count": 6,
      "outputs": [
        {
          "output_type": "error",
          "ename": "NameError",
          "evalue": "ignored",
          "traceback": [
            "\u001b[0;31m---------------------------------------------------------------------------\u001b[0m",
            "\u001b[0;31mNameError\u001b[0m                                 Traceback (most recent call last)",
            "\u001b[0;32m<ipython-input-6-0102f703b8a5>\u001b[0m in \u001b[0;36m<module>\u001b[0;34m\u001b[0m\n\u001b[1;32m      1\u001b[0m \u001b[0mminmax\u001b[0m\u001b[0;34m=\u001b[0m\u001b[0mprep\u001b[0m\u001b[0;34m.\u001b[0m\u001b[0mMinMaxScaler\u001b[0m\u001b[0;34m(\u001b[0m\u001b[0;34m)\u001b[0m\u001b[0;34m\u001b[0m\u001b[0;34m\u001b[0m\u001b[0m\n\u001b[0;32m----> 2\u001b[0;31m \u001b[0mnp\u001b[0m\u001b[0;34m.\u001b[0m\u001b[0mcorrcoef\u001b[0m\u001b[0;34m(\u001b[0m\u001b[0mminmax\u001b[0m\u001b[0;34m.\u001b[0m\u001b[0mfit_transform\u001b[0m\u001b[0;34m(\u001b[0m\u001b[0;34m(\u001b[0m\u001b[0mnp\u001b[0m\u001b[0;34m.\u001b[0m\u001b[0mwhere\u001b[0m\u001b[0;34m(\u001b[0m\u001b[0msalaryfrom\u001b[0m\u001b[0;34m.\u001b[0m\u001b[0mastype\u001b[0m\u001b[0;34m(\u001b[0m\u001b[0mstr\u001b[0m\u001b[0;34m)\u001b[0m\u001b[0;34m==\u001b[0m\u001b[0;34m'None'\u001b[0m\u001b[0;34m,\u001b[0m\u001b[0mmn\u001b[0m\u001b[0;34m,\u001b[0m\u001b[0msalaryfrom\u001b[0m\u001b[0;34m.\u001b[0m\u001b[0mastype\u001b[0m\u001b[0;34m(\u001b[0m\u001b[0mfloat\u001b[0m\u001b[0;34m)\u001b[0m\u001b[0;34m)\u001b[0m\u001b[0;34m)\u001b[0m\u001b[0;34m.\u001b[0m\u001b[0mreshape\u001b[0m\u001b[0;34m(\u001b[0m\u001b[0;34m-\u001b[0m\u001b[0;36m1\u001b[0m\u001b[0;34m,\u001b[0m \u001b[0;36m1\u001b[0m\u001b[0;34m)\u001b[0m\u001b[0;34m)\u001b[0m\u001b[0;34m.\u001b[0m\u001b[0mflatten\u001b[0m\u001b[0;34m(\u001b[0m\u001b[0;34m)\u001b[0m\u001b[0;34m,\u001b[0m \u001b[0mshed\u001b[0m\u001b[0;34m)\u001b[0m\u001b[0;34m\u001b[0m\u001b[0;34m\u001b[0m\u001b[0m\n\u001b[0m",
            "\u001b[0;31mNameError\u001b[0m: name 'shed' is not defined"
          ]
        }
      ]
    },
    {
      "cell_type": "code",
      "source": [
        "ohe.fit_transform(schedule.reshape(-1, 1)).toarray()"
      ],
      "metadata": {
        "colab": {
          "base_uri": "https://localhost:8080/"
        },
        "id": "b8eJOcNvf82H",
        "outputId": "a0ce70b0-d2e6-4144-dcf5-53a99f25fecd"
      },
      "execution_count": 33,
      "outputs": [
        {
          "output_type": "execute_result",
          "data": {
            "text/plain": [
              "array([[0., 0., 0., 1.],\n",
              "       [0., 0., 0., 1.],\n",
              "       [0., 1., 0., 0.],\n",
              "       [0., 0., 0., 1.],\n",
              "       [0., 1., 0., 0.],\n",
              "       [0., 1., 0., 0.],\n",
              "       [0., 1., 0., 0.],\n",
              "       [0., 0., 0., 1.],\n",
              "       [0., 1., 0., 0.],\n",
              "       [0., 1., 0., 0.],\n",
              "       [0., 0., 0., 1.],\n",
              "       [0., 1., 0., 0.],\n",
              "       [1., 0., 0., 0.],\n",
              "       [1., 0., 0., 0.],\n",
              "       [0., 1., 0., 0.],\n",
              "       [0., 0., 0., 1.],\n",
              "       [0., 0., 0., 1.],\n",
              "       [0., 1., 0., 0.],\n",
              "       [0., 0., 0., 1.],\n",
              "       [0., 0., 0., 1.],\n",
              "       [0., 1., 0., 0.],\n",
              "       [0., 0., 0., 1.],\n",
              "       [0., 1., 0., 0.],\n",
              "       [0., 1., 0., 0.],\n",
              "       [0., 0., 0., 1.],\n",
              "       [0., 1., 0., 0.],\n",
              "       [0., 0., 0., 1.],\n",
              "       [0., 0., 0., 1.],\n",
              "       [0., 1., 0., 0.],\n",
              "       [0., 1., 0., 0.],\n",
              "       [0., 1., 0., 0.],\n",
              "       [0., 1., 0., 0.],\n",
              "       [0., 1., 0., 0.],\n",
              "       [0., 1., 0., 0.],\n",
              "       [0., 1., 0., 0.],\n",
              "       [0., 1., 0., 0.],\n",
              "       [0., 0., 0., 1.],\n",
              "       [1., 0., 0., 0.],\n",
              "       [0., 1., 0., 0.],\n",
              "       [0., 1., 0., 0.],\n",
              "       [1., 0., 0., 0.],\n",
              "       [0., 1., 0., 0.],\n",
              "       [0., 1., 0., 0.],\n",
              "       [0., 1., 0., 0.],\n",
              "       [0., 0., 0., 1.],\n",
              "       [0., 1., 0., 0.],\n",
              "       [0., 1., 0., 0.],\n",
              "       [0., 1., 0., 0.],\n",
              "       [0., 1., 0., 0.],\n",
              "       [0., 1., 0., 0.],\n",
              "       [0., 1., 0., 0.],\n",
              "       [0., 1., 0., 0.],\n",
              "       [0., 0., 0., 1.],\n",
              "       [0., 1., 0., 0.],\n",
              "       [0., 1., 0., 0.],\n",
              "       [0., 0., 0., 1.],\n",
              "       [1., 0., 0., 0.],\n",
              "       [0., 1., 0., 0.],\n",
              "       [1., 0., 0., 0.],\n",
              "       [0., 0., 1., 0.],\n",
              "       [0., 1., 0., 0.],\n",
              "       [0., 1., 0., 0.],\n",
              "       [0., 0., 0., 1.],\n",
              "       [0., 1., 0., 0.],\n",
              "       [0., 0., 0., 1.],\n",
              "       [0., 1., 0., 0.],\n",
              "       [0., 0., 0., 1.],\n",
              "       [0., 0., 0., 1.],\n",
              "       [0., 1., 0., 0.],\n",
              "       [0., 1., 0., 0.],\n",
              "       [0., 1., 0., 0.],\n",
              "       [0., 1., 0., 0.],\n",
              "       [0., 1., 0., 0.],\n",
              "       [0., 1., 0., 0.],\n",
              "       [1., 0., 0., 0.],\n",
              "       [0., 1., 0., 0.],\n",
              "       [0., 0., 0., 1.],\n",
              "       [0., 0., 0., 1.],\n",
              "       [0., 1., 0., 0.],\n",
              "       [0., 0., 0., 1.],\n",
              "       [1., 0., 0., 0.],\n",
              "       [0., 1., 0., 0.],\n",
              "       [0., 0., 0., 1.],\n",
              "       [0., 1., 0., 0.],\n",
              "       [0., 1., 0., 0.],\n",
              "       [0., 0., 0., 1.],\n",
              "       [0., 0., 0., 1.],\n",
              "       [0., 1., 0., 0.],\n",
              "       [0., 1., 0., 0.],\n",
              "       [0., 1., 0., 0.],\n",
              "       [0., 0., 0., 1.],\n",
              "       [1., 0., 0., 0.],\n",
              "       [0., 0., 0., 1.],\n",
              "       [0., 0., 0., 1.],\n",
              "       [0., 0., 0., 1.],\n",
              "       [0., 1., 0., 0.],\n",
              "       [0., 1., 0., 0.],\n",
              "       [0., 1., 0., 0.],\n",
              "       [1., 0., 0., 0.],\n",
              "       [0., 1., 0., 0.]])"
            ]
          },
          "metadata": {},
          "execution_count": 33
        }
      ]
    },
    {
      "cell_type": "code",
      "source": [
        "from sklearn.linear_model import LinearRegression\n",
        "\n",
        "\n",
        "ohe=prep.OneHotEncoder()\n",
        "X1=ohe.fit_transform(schedule.reshape(-1, 1)).toarray()\n",
        "reg=LinearRegression()\n",
        "reg.fit(X1,np.where(salaryfrom.astype(str)=='None',mn,salaryfrom.astype(float)))\n",
        "reg.coef_"
      ],
      "metadata": {
        "colab": {
          "base_uri": "https://localhost:8080/"
        },
        "id": "kH0Pzjajf-wL",
        "outputId": "d975284e-3f94-472a-bb0c-7c332ff7c886"
      },
      "execution_count": 34,
      "outputs": [
        {
          "output_type": "execute_result",
          "data": {
            "text/plain": [
              "array([ 11474.63615974,  31824.85729917, -77751.34210113,  34451.84864221])"
            ]
          },
          "metadata": {},
          "execution_count": 34
        }
      ]
    },
    {
      "cell_type": "code",
      "source": [
        "lst=list(map(lambda x: x[0]+'|'+x[1], zip(list(map(lambda x: 'низкая зп' if x<50000 else 'высокая зп',np.where(salaryfrom.astype(str)=='None',mn,salaryfrom.astype(float)))),\n",
        "schedule)))\n",
        "lst"
      ],
      "metadata": {
        "colab": {
          "base_uri": "https://localhost:8080/"
        },
        "id": "657knEQWgF1b",
        "outputId": "6fc1e219-fe5a-4fa9-b7c5-6dede539813f"
      },
      "execution_count": 35,
      "outputs": [
        {
          "output_type": "execute_result",
          "data": {
            "text/plain": [
              "['низкая зп|Удаленная работа',\n",
              " 'низкая зп|Удаленная работа',\n",
              " 'высокая зп|Полный день',\n",
              " 'высокая зп|Удаленная работа',\n",
              " 'высокая зп|Полный день',\n",
              " 'низкая зп|Полный день',\n",
              " 'высокая зп|Полный день',\n",
              " 'низкая зп|Удаленная работа',\n",
              " 'низкая зп|Полный день',\n",
              " 'высокая зп|Полный день',\n",
              " 'низкая зп|Удаленная работа',\n",
              " 'низкая зп|Полный день',\n",
              " 'низкая зп|Гибкий график',\n",
              " 'высокая зп|Гибкий график',\n",
              " 'высокая зп|Полный день',\n",
              " 'низкая зп|Удаленная работа',\n",
              " 'низкая зп|Удаленная работа',\n",
              " 'высокая зп|Полный день',\n",
              " 'высокая зп|Удаленная работа',\n",
              " 'высокая зп|Удаленная работа',\n",
              " 'высокая зп|Полный день',\n",
              " 'низкая зп|Удаленная работа',\n",
              " 'высокая зп|Полный день',\n",
              " 'низкая зп|Полный день',\n",
              " 'высокая зп|Удаленная работа',\n",
              " 'высокая зп|Полный день',\n",
              " 'высокая зп|Удаленная работа',\n",
              " 'низкая зп|Удаленная работа',\n",
              " 'высокая зп|Полный день',\n",
              " 'высокая зп|Полный день',\n",
              " 'высокая зп|Полный день',\n",
              " 'низкая зп|Полный день',\n",
              " 'высокая зп|Полный день',\n",
              " 'высокая зп|Полный день',\n",
              " 'высокая зп|Полный день',\n",
              " 'высокая зп|Полный день',\n",
              " 'высокая зп|Удаленная работа',\n",
              " 'высокая зп|Гибкий график',\n",
              " 'высокая зп|Полный день',\n",
              " 'высокая зп|Полный день',\n",
              " 'высокая зп|Гибкий график',\n",
              " 'высокая зп|Полный день',\n",
              " 'высокая зп|Полный день',\n",
              " 'высокая зп|Полный день',\n",
              " 'высокая зп|Удаленная работа',\n",
              " 'высокая зп|Полный день',\n",
              " 'высокая зп|Полный день',\n",
              " 'низкая зп|Полный день',\n",
              " 'высокая зп|Полный день',\n",
              " 'высокая зп|Полный день',\n",
              " 'высокая зп|Полный день',\n",
              " 'высокая зп|Полный день',\n",
              " 'высокая зп|Удаленная работа',\n",
              " 'высокая зп|Полный день',\n",
              " 'высокая зп|Полный день',\n",
              " 'высокая зп|Удаленная работа',\n",
              " 'высокая зп|Гибкий график',\n",
              " 'высокая зп|Полный день',\n",
              " 'низкая зп|Гибкий график',\n",
              " 'низкая зп|Сменный график',\n",
              " 'низкая зп|Полный день',\n",
              " 'низкая зп|Полный день',\n",
              " 'высокая зп|Удаленная работа',\n",
              " 'высокая зп|Полный день',\n",
              " 'высокая зп|Удаленная работа',\n",
              " 'высокая зп|Полный день',\n",
              " 'высокая зп|Удаленная работа',\n",
              " 'высокая зп|Удаленная работа',\n",
              " 'высокая зп|Полный день',\n",
              " 'высокая зп|Полный день',\n",
              " 'низкая зп|Полный день',\n",
              " 'низкая зп|Полный день',\n",
              " 'низкая зп|Полный день',\n",
              " 'высокая зп|Полный день',\n",
              " 'высокая зп|Гибкий график',\n",
              " 'высокая зп|Полный день',\n",
              " 'высокая зп|Удаленная работа',\n",
              " 'высокая зп|Удаленная работа',\n",
              " 'высокая зп|Полный день',\n",
              " 'высокая зп|Удаленная работа',\n",
              " 'высокая зп|Гибкий график',\n",
              " 'высокая зп|Полный день',\n",
              " 'высокая зп|Удаленная работа',\n",
              " 'высокая зп|Полный день',\n",
              " 'высокая зп|Полный день',\n",
              " 'высокая зп|Удаленная работа',\n",
              " 'низкая зп|Удаленная работа',\n",
              " 'низкая зп|Полный день',\n",
              " 'высокая зп|Полный день',\n",
              " 'высокая зп|Полный день',\n",
              " 'высокая зп|Удаленная работа',\n",
              " 'высокая зп|Гибкий график',\n",
              " 'высокая зп|Удаленная работа',\n",
              " 'низкая зп|Удаленная работа',\n",
              " 'низкая зп|Удаленная работа',\n",
              " 'высокая зп|Полный день',\n",
              " 'высокая зп|Полный день',\n",
              " 'высокая зп|Полный день',\n",
              " 'низкая зп|Гибкий график',\n",
              " 'низкая зп|Полный день']"
            ]
          },
          "metadata": {},
          "execution_count": 35
        }
      ]
    },
    {
      "cell_type": "code",
      "source": [
        "lab=prep.LabelEncoder()\n",
        "lst1=lab.fit_transform(np.reshape(lst,(-1,1)))\n",
        "lst1"
      ],
      "metadata": {
        "colab": {
          "base_uri": "https://localhost:8080/"
        },
        "id": "kCRquklihRiO",
        "outputId": "754aad4e-bf4a-4a6a-bb86-2230bc1c2b91"
      },
      "execution_count": 28,
      "outputs": [
        {
          "output_type": "stream",
          "name": "stderr",
          "text": [
            "/usr/local/lib/python3.7/dist-packages/sklearn/preprocessing/_label.py:115: DataConversionWarning: A column-vector y was passed when a 1d array was expected. Please change the shape of y to (n_samples, ), for example using ravel().\n",
            "  y = column_or_1d(y, warn=True)\n"
          ]
        },
        {
          "output_type": "execute_result",
          "data": {
            "text/plain": [
              "array([6, 6, 1, 2, 1, 4, 1, 6, 4, 1, 6, 4, 3, 0, 1, 6, 6, 1, 2, 2, 1, 6,\n",
              "       1, 4, 2, 1, 2, 6, 1, 1, 1, 4, 1, 1, 1, 1, 2, 0, 1, 1, 0, 1, 1, 1,\n",
              "       2, 1, 1, 4, 1, 1, 1, 1, 2, 1, 1, 2, 0, 1, 3, 5, 4, 4, 2, 1, 2, 1,\n",
              "       2, 2, 1, 1, 4, 4, 4, 1, 0, 1, 2, 2, 1, 2, 0, 1, 2, 1, 1, 2, 6, 4,\n",
              "       1, 1, 2, 0, 2, 6, 6, 1, 1, 1, 3, 4])"
            ]
          },
          "metadata": {},
          "execution_count": 28
        }
      ]
    },
    {
      "cell_type": "code",
      "source": [
        "from collections import Counter\n",
        "\n",
        "X=np.reshape([x[1] for x in sorted(Counter(lst).items(),key=lambda x:x[0])],(1,7))\n",
        "X"
      ],
      "metadata": {
        "colab": {
          "base_uri": "https://localhost:8080/"
        },
        "id": "tHke5b_DhRro",
        "outputId": "99aafd77-8291-4c63-bb9e-921f3864adb4"
      },
      "execution_count": 37,
      "outputs": [
        {
          "output_type": "execute_result",
          "data": {
            "text/plain": [
              "array([[ 7, 45, 20,  3, 13,  1, 11]])"
            ]
          },
          "metadata": {},
          "execution_count": 37
        }
      ]
    }
  ]
}